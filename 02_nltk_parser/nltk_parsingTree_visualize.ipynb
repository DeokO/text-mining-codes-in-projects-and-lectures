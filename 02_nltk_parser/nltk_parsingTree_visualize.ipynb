{
 "cells": [
  {
   "cell_type": "markdown",
   "metadata": {},
   "source": [
    "# nltk를 이용해서 영문 parsing하기 (NER, tagging도 같은 방식)"
   ]
  },
  {
   "cell_type": "markdown",
   "metadata": {},
   "source": [
    "## Parsing을 하기 위한 준비\n",
    "> ### parser의 종류 및 성능\n",
    ">> * 유명한 parser: stanford, berkeley, SyntaxNet(Google), pattern, ... 영문 parser는 정말 많이 있음\n",
    ">> * 성능 면에서는 **SyntaxNet**이 가장 좋지만, 쉽게 사용 가능한 것은 **stanford**의 parser임\n",
    ">> * SyntaxNet(Google) 성능 비교: https://research.googleblog.com/2016/05/announcing-syntaxnet-worlds-most.html\n",
    ">> * 위 논문: https://arxiv.org/pdf/1603.06042v2.pdf\n",
    "\n",
    "- - -\n",
    "\n",
    "> ### stanford parser 사용하기\n",
    ">> * nltk 정식 document(https://github.com/nltk/nltk/wiki/Installing-Third-Party-Software)를 참고\n",
    ">>> 1. java가 설치되어 있고, 환경변수가 설정되있어야 함\n",
    ">>> 2. parser package 다운로드(http://nlp.stanford.edu/software/lex-parser.shtml)\n",
    ">>> 3. parser package 압축 해제\n",
    ">>> 4. CLASSPATH 라는 환경변수를 생성하여 stanford-parser.jar가 있는 디렉토리를 추가\n",
    ">>> 5. STANFORD_MODELS 라는 환경변수를 생성하여 stanford-parser-x.x.x-models.jar가 있는 디렉토리를 추가\n",
    ">>> 6. englishPCFG.ser.gz를 경로에 넣어주기\n",
    "\n",
    ">> * Tokenizer, NER, POS-tagger도 위와 유사한 방식으로 사용할 수 있으며, 아래 사이트에서 패키지를 다운받을수 있다.\n",
    ">>>  tokenizer package(http://nlp.stanford.edu/software/lex-parser.shtml)\n",
    ">>>  NER package(http://nlp.stanford.edu/software/CRF-NER.shtml)\n",
    ">>>  POS tagger package(http://nlp.stanford.edu/software/tagger.shtml)\n",
    "\n",
    ">> * 참고한 사이트\n",
    ">>> * nltk document\n",
    ">>>> https://github.com/nltk/nltk/wiki/Installing-Third-Party-Software\n",
    ">>> * 그림 설명이 잘 되어있는 블로그\n",
    ">>>> https://blog.manash.me/configuring-stanford-parser-and-stanford-ner-tagger-with-nltk-in-python-on-windows-f685483c374a\n",
    ">>> * 예시 코드까지 포함되있는 사이트\n",
    ">>>> https://gist.github.com/alvations/e1df0ba227e542955a8a\n",
    "\n",
    "- - -\n",
    "\n",
    "> ### 여러가지 parser\n",
    ">> * malt parser, dependency 같은 개념을 가진 parser도 공부해야 사용할 때 이해가 잘 될듯함\n",
    ">>> * nltk에서 malt parser 사용하는 방법\n",
    ">>>> https://stackoverflow.com/questions/14009330/how-to-use-malt-parser-in-python-nltk\n",
    ">>> * nltk에서 SyntaxNet 사용하는 방법\n",
    ">>>> http://www.davidsbatista.net/blog/2017/03/25/syntaxnet/\n"
   ]
  },
  {
   "cell_type": "markdown",
   "metadata": {},
   "source": [
    "# 예시 코드 "
   ]
  },
  {
   "cell_type": "code",
   "execution_count": 1,
   "metadata": {
    "collapsed": true
   },
   "outputs": [],
   "source": [
    "#예문\n",
    "sentence = \"The pedal is not wide enough\""
   ]
  },
  {
   "cell_type": "code",
   "execution_count": 2,
   "metadata": {
    "collapsed": false
   },
   "outputs": [
    {
     "name": "stdout",
     "output_type": "stream",
     "text": [
      "[Tree('ROOT', [Tree('S', [Tree('NP', [Tree('DT', ['The']), Tree('NN', ['pedal'])]), Tree('VP', [Tree('VBZ', ['is']), Tree('RB', ['not']), Tree('ADJP', [Tree('RB', ['wide']), Tree('JJ', ['enough'])])])])])]\n"
     ]
    }
   ],
   "source": [
    "#parsing tree 만들기\n",
    "from nltk.parse.stanford import StanfordParser\n",
    "parser = StanfordParser(model_path=\"C:\\\\Users\\\\DeokseongSeo\\\\Anaconda3\\\\Lib\\\\site-packages\\\\stanford_tools\\\\stanford-parser-full-2017-06-09\\\\englishPCFG.ser.gz\")\n",
    "parsed_tree = list(parser.raw_parse(sentence))\n",
    "print(parsed_tree)"
   ]
  },
  {
   "cell_type": "code",
   "execution_count": 3,
   "metadata": {
    "collapsed": true
   },
   "outputs": [],
   "source": [
    "#parsing tree 시각화\n",
    "for line in parsed_tree:\n",
    "    for sentence in line:\n",
    "        sentence.draw()"
   ]
  }
 ],
 "metadata": {
  "anaconda-cloud": {},
  "kernelspec": {
   "display_name": "Python [conda root]",
   "language": "python",
   "name": "conda-root-py"
  },
  "language_info": {
   "codemirror_mode": {
    "name": "ipython",
    "version": 3
   },
   "file_extension": ".py",
   "mimetype": "text/x-python",
   "name": "python",
   "nbconvert_exporter": "python",
   "pygments_lexer": "ipython3",
   "version": "3.5.2"
  }
 },
 "nbformat": 4,
 "nbformat_minor": 1
}
